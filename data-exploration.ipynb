{
 "cells": [
  {
   "cell_type": "markdown",
   "id": "a3b93538-e899-493c-a34a-6273748d393f",
   "metadata": {},
   "source": [
    "# Imports"
   ]
  },
  {
   "cell_type": "code",
   "execution_count": 1,
   "id": "b950d677-dc80-4def-a364-33643897b9df",
   "metadata": {},
   "outputs": [],
   "source": [
    "import pandas as pd"
   ]
  },
  {
   "cell_type": "markdown",
   "id": "d245c40d-9238-4272-9d07-206afe3a757d",
   "metadata": {},
   "source": [
    "# Opening file"
   ]
  },
  {
   "cell_type": "code",
   "execution_count": 5,
   "id": "4ab7172b-41fe-4c6a-9ee3-8b81008be693",
   "metadata": {},
   "outputs": [
    {
     "name": "stdout",
     "output_type": "stream",
     "text": [
      "   SUBJECT_ID    DEFINITION_ID      TIME\n",
      "0           1         drug_217  0.004807\n",
      "1           1   condition_1922  0.008643\n",
      "2           1    condition_785  0.027792\n",
      "3           1          drug_49  0.032515\n",
      "4           1  measurement_132  0.056765\n",
      "['drug_217' 'condition_1922' 'condition_785' ... 'condition_842'\n",
      " 'condition_1204' 'condition_807']\n"
     ]
    }
   ],
   "source": [
    "file_path = './data/synthetic_data_lung_cancer.csv'\n",
    "df = pd.read_csv(file_path)\n",
    "\n",
    "# Display the first few rows of the DataFrame\n",
    "print(df.head())\n",
    "print(df['DEFINITION_ID'].unique())"
   ]
  },
  {
   "cell_type": "code",
   "execution_count": null,
   "id": "061c6ae8-95d2-4d03-8a68-c6418713cb7c",
   "metadata": {},
   "outputs": [],
   "source": []
  }
 ],
 "metadata": {
  "kernelspec": {
   "display_name": "Python 3 (ipykernel)",
   "language": "python",
   "name": "python3"
  },
  "language_info": {
   "codemirror_mode": {
    "name": "ipython",
    "version": 3
   },
   "file_extension": ".py",
   "mimetype": "text/x-python",
   "name": "python",
   "nbconvert_exporter": "python",
   "pygments_lexer": "ipython3",
   "version": "3.10.12"
  }
 },
 "nbformat": 4,
 "nbformat_minor": 5
}
